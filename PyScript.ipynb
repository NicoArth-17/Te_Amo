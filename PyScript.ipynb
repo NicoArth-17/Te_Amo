{
 "cells": [
  {
   "cell_type": "markdown",
   "metadata": {},
   "source": [
    "Usando a biblioteca Time a difereça de tempo será calculada em segundos e depois o ano, mes, dia, hora e minuto serão calculados a partir dos segundos"
   ]
  },
  {
   "cell_type": "code",
   "execution_count": 23,
   "metadata": {},
   "outputs": [
    {
     "name": "stdout",
     "output_type": "stream",
     "text": [
      "inicio:  1656126000.0\n",
      "hoje:  1691027851.0\n",
      "diferença:  34901851.0\n",
      "anos:  1.0\n",
      "meses:  1.0\n",
      "dias:  8.0\n",
      "horas:  12.0\n",
      "minutos:  51.0\n",
      "segundos:  16.599999998230487\n"
     ]
    }
   ],
   "source": [
    "import time\n",
    "\n",
    "inicio_str = '25/06/2022 17:00:00'\n",
    "formato = '%d/%m/%Y %H:%M:%S'\n",
    "inicio_struct = (2022, 6, 25, 0, 0, 0, 0, 0, 0)\n",
    "\n",
    "hoje_struct = time.localtime()\n",
    "\n",
    "inicio_seg = time.mktime(inicio_struct)\n",
    "print('inicio: ', inicio_seg)\n",
    "\n",
    "hoje_seg = time.mktime(hoje_struct)\n",
    "print('hoje: ', hoje_seg)\n",
    "\n",
    "diferença = hoje_seg - inicio_seg\n",
    "print('diferença: ', diferença)\n",
    "\n",
    "anos, resto_anos = divmod(diferença, (60*60*24*30.417*12))\n",
    "print('anos: ', anos)\n",
    "\n",
    "meses, resto_meses = divmod(resto_anos, (60*60*24*30.417))\n",
    "print('meses: ', meses)\n",
    "\n",
    "dias, resto_dia = divmod(resto_meses, (60*60*24))\n",
    "print('dias: ', dias)\n",
    "\n",
    "horas, resto_horas = divmod(resto_dia, (60*60))\n",
    "print('horas: ', horas)\n",
    "\n",
    "minutos, resto_min = divmod(resto_horas, 60)\n",
    "print('minutos: ', minutos)\n",
    "\n",
    "segundos = resto_min\n",
    "print('segundos: ', segundos)\n"
   ]
  },
  {
   "cell_type": "markdown",
   "metadata": {},
   "source": [
    "Usando a biblioteca DateTime a difereça de tempo será calculada em segundos e depois o ano, mes, dia, hora e minuto serão calculados a partir dos segundos"
   ]
  },
  {
   "cell_type": "code",
   "execution_count": 20,
   "metadata": {},
   "outputs": [
    {
     "name": "stdout",
     "output_type": "stream",
     "text": [
      "403 days, 5:52:19.731435\n",
      "403\n"
     ]
    }
   ],
   "source": [
    "from datetime import datetime, timedelta\n",
    "\n",
    "hoje = datetime.now()\n",
    "inicio = datetime(2022, 6, 25, 17)\n",
    "tempo_junto = hoje - inicio\n",
    "print(tempo_junto)\n",
    "\n",
    "horas = tempo_junto\n",
    "print(horas)"
   ]
  }
 ],
 "metadata": {
  "kernelspec": {
   "display_name": "Python 3",
   "language": "python",
   "name": "python3"
  },
  "language_info": {
   "codemirror_mode": {
    "name": "ipython",
    "version": 3
   },
   "file_extension": ".py",
   "mimetype": "text/x-python",
   "name": "python",
   "nbconvert_exporter": "python",
   "pygments_lexer": "ipython3",
   "version": "3.11.1"
  },
  "orig_nbformat": 4
 },
 "nbformat": 4,
 "nbformat_minor": 2
}
